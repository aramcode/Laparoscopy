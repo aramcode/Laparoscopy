{
 "cells": [
  {
   "cell_type": "code",
   "execution_count": null,
   "metadata": {},
   "outputs": [],
   "source": [
    "import cv2\n",
    "import math\n",
    "import matplotlib.pyplot as plt"
   ]
  },
  {
   "cell_type": "code",
   "execution_count": null,
   "metadata": {},
   "outputs": [],
   "source": [
    "## Variable to store path of image\n",
    "path_of_image = 'protractor.jpg'\n",
    "\n",
    "## Use imread fn to read image\n",
    "image = cv2.imread(path_of_image)\n",
    "plt.imshow(image)\n",
    "\n",
    "## Variable to hold coordinates of dots \n",
    "dots_list = []"
   ]
  },
  {
   "cell_type": "code",
   "execution_count": null,
   "metadata": {},
   "outputs": [],
   "source": [
    "## Function to draw the dots and join it to form line\n",
    "\n",
    "def dots_of_mouse(mouse_click,x_cor,y_cor,flag_var,parameters):\n",
    "    if mouse_click == cv2.EVENT_LBUTTONDOWN:\n",
    "        size_of_dot = len(dots_list)\n",
    "        \n",
    "        ## Fn to check if three dots are present and form a line between them\n",
    "        if size_of_dot != 0 and size_of_dot % 3 != 0:\n",
    "            cv2.arrowedLine(image,tuple(dots_list[round((size_of_dot-1)/3)*3]),(x_cor,y_cor),(0,0,255),2)\n",
    "        \n",
    "        ## Fn to draw the dots\n",
    "        cv2.circle(image,(x_cor,y_cor),5,(0,0,255),cv2.FILLED)\n",
    "        dots_list.append([x_cor,y_cor])"
   ]
  },
  {
   "cell_type": "code",
   "execution_count": null,
   "metadata": {},
   "outputs": [],
   "source": [
    "## Function to find gradient of the dots / slope of two dots\n",
    "\n",
    "def finding_gradient(dot1,dot2):\n",
    "    return (dot2[1]-dot1[1])/(dot2[0]-dot1[0]) ## y2-y1/x2-x1"
   ]
  },
  {
   "cell_type": "code",
   "execution_count": null,
   "metadata": {},
   "outputs": [],
   "source": [
    "## Function to find angle b/w dots\n",
    "\n",
    "def evaluate_angle(dots_list):\n",
    "    dot1, dot2, dot3 = dots_list[-3:]\n",
    "    m1 = finding_gradient(dot1,dot2)\n",
    "    m2 = finding_gradient(dot1,dot3)\n",
    "    angleR = math.atan((m2-m1)/(1+(m2*m1)))\n",
    "    angleD = round(math.degrees(angleR),3)\n",
    " \n",
    "    cv2.putText(image,str(angleD),(dot1[0]-40,dot1[1]-20),cv2.FONT_HERSHEY_COMPLEX,\n",
    "                1.5,(0,0,255),2)"
   ]
  },
  {
   "cell_type": "code",
   "execution_count": null,
   "metadata": {},
   "outputs": [],
   "source": [
    "while True:\n",
    "\n",
    "    if len(dots_list) % 3 == 0 and len(dots_list) !=0:\n",
    "        evaluate_angle(dots_list)\n",
    " \n",
    "    cv2.imshow('Image',image)\n",
    "    cv2.setMouseCallback('Image',dots_of_mouse)\n",
    "    if cv2.waitKey(1) & 0xFF == ord('q'):\n",
    "        dots_list = []\n",
    "        image = cv2.imread(path_of_image)\n",
    "\n",
    "k = cv2.waitKey(0) & 0xFF\n",
    "if k==27:\n",
    "        cv2.destroyAllWindows()\n",
    "        \n",
    "        \n"
   ]
  },
  {
   "cell_type": "code",
   "execution_count": null,
   "metadata": {},
   "outputs": [],
   "source": []
  }
 ],
 "metadata": {
  "kernelspec": {
   "display_name": "Python 3.9.13 64-bit (microsoft store)",
   "language": "python",
   "name": "python3"
  },
  "language_info": {
   "codemirror_mode": {
    "name": "ipython",
    "version": 3
   },
   "file_extension": ".py",
   "mimetype": "text/x-python",
   "name": "python",
   "nbconvert_exporter": "python",
   "pygments_lexer": "ipython3",
   "version": "3.9.13"
  },
  "orig_nbformat": 4,
  "vscode": {
   "interpreter": {
    "hash": "20c843c1d97ecf262fbf7e454731bee7566cb57a4c91d415399dff736f7e375c"
   }
  }
 },
 "nbformat": 4,
 "nbformat_minor": 2
}
